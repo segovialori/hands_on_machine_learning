{
 "cells": [
  {
   "cell_type": "markdown",
   "metadata": {},
   "source": [
    "# Chapter One:  The Machine Learning Landscape"
   ]
  },
  {
   "cell_type": "markdown",
   "metadata": {},
   "source": [
    "## The Machine Learning Landscape"
   ]
  },
  {
   "cell_type": "markdown",
   "metadata": {},
   "source": [
    "- supervised vs unsupervised learning\n",
    "- online versus batch learning\n",
    "- instance-based versus model-baled learning"
   ]
  },
  {
   "cell_type": "markdown",
   "metadata": {},
   "source": [
    "## What Is Machine Learning"
   ]
  },
  {
   "cell_type": "markdown",
   "metadata": {},
   "source": [
    "- Machine learning is the science (and art) of programming computer so they can learn from data."
   ]
  },
  {
   "cell_type": "markdown",
   "metadata": {},
   "source": [
    "## Why Use Machine Learning"
   ]
  },
  {
   "cell_type": "markdown",
   "metadata": {},
   "source": [
    "- Machine learning can help humans learn.\n",
    "- ML algorithms can be inspected to see hwat they have learned.\n",
    "- Applying ML techniques to dig inot large amounts of data can help discover patterns that were not immediately apparent. This is called data mining.\n",
    "- Problems for which existing solutions require a lot of fine tuning or long lists of rules.\n",
    "- Complex problems for which using a traditional approach yeilds no good solution.\n",
    "- Fluctuating environments:  ML system can adapt to new data.\n",
    "- Getting insights about complex problems and large amounts of data."
   ]
  },
  {
   "cell_type": "markdown",
   "metadata": {},
   "source": [
    "## Examples of Applications"
   ]
  },
  {
   "cell_type": "markdown",
   "metadata": {},
   "source": [
    "- Analyzing images of products on a production line to automatically classify them\n",
    "- Detecting tumors in brain scans\n",
    "- Automatically classifying news articles\n",
    "- Forecasting your company's revenue next year, based on many performance metrics"
   ]
  },
  {
   "cell_type": "markdown",
   "metadata": {},
   "source": [
    "## Types of Machine Learning Systems"
   ]
  },
  {
   "cell_type": "markdown",
   "metadata": {},
   "source": [
    "### Supervised/Unsupervised Learning"
   ]
  },
  {
   "cell_type": "markdown",
   "metadata": {},
   "source": [
    "Four major categories:\n",
    "- supervised\n",
    "- unsupervised\n",
    "- semisupervised\n",
    "- reinforcement"
   ]
  },
  {
   "cell_type": "markdown",
   "metadata": {},
   "source": [
    "#### Supervised Learning"
   ]
  },
  {
   "cell_type": "markdown",
   "metadata": {},
   "source": [
    "- In supervised learning, the training set you feed to the algorithn includes the desired solutions, called labels.\n",
    "- A typical supervised learning task is classification.\n",
    "    - ex). spam filter\n",
    "        - trained with many example emails along with thier class (spam or ham), and it must learn how to classify new emails\n",
    "- Another typical task is to predict a target numeric value, sucha s the price of a car, give a set of features ( mileage, age, brand, etc.) called predictors.  This sort of task is called regression.\n",
    "- Some of the most important supervised learning algorithms:\n",
    "    - k-Nearest Neighbors\n",
    "    - Linear Regression\n",
    "    - Logistic Regression\n",
    "    - Support Vector Machines (SVMs)\n",
    "    - Decision Trees and Random Forests\n",
    "    - Neural networks"
   ]
  },
  {
   "cell_type": "markdown",
   "metadata": {},
   "source": [
    "#### Unsupervised Learning\n",
    "- In unsupervised learning the training data is unlabeled.  The system tries to learn without a teacher. \n",
    "- Most important unsupervised learning algorithms:\n",
    "    - Clustering\n",
    "        - K-means\n",
    "        - DBSCAN\n",
    "        - Hierarchical Cluster Analysis (HCA)\n",
    "    - Anomaly Detection and novelty detection\n",
    "        - One-class SVM\n",
    "        - Isolation forest\n",
    "    - Visualization and dimensionality reduction\n",
    "        - Principal Component Analysis (PCA)\n",
    "        - Kernel PCA\n",
    "        - Locally Linear Embedding (LLE)\n",
    "        - t-Distributed Stochastic Neighbor Embedding (t-SNE)\n",
    "    - Association rule learning\n",
    "        - Apriori\n",
    "        - Eclat\n",
    "       "
   ]
  },
  {
   "cell_type": "markdown",
   "metadata": {},
   "source": [
    "#### Semisupervised learning\n",
    "- Since labeling data is usually time-consuming and costly, you will ften have plenty of unlabeled instances, and few labeled instances.  some algorithms can deal with data that partially labeled,this is called semisupervised learning.\n",
    "    - ex). Google photos\n",
    "        - Once you upload allyou family photos to the service, it automaticaly recognizes that the same person A shows up in photos 1, 5, and 11 - this is the unsupervised part (clustering).  Now all the system needs is for ;you to tell it who these people are."
   ]
  },
  {
   "cell_type": "markdown",
   "metadata": {},
   "source": [
    "#### Reinforcement Learning\n",
    "- The learning system can observe the environment, select and perform acitons, and get rewards in return.  It must learn by itseld what is the best strategy, called a policy, to get the most reward over time.  A policy defines what aciton the agent should choose when it is in a given situation.  "
   ]
  },
  {
   "cell_type": "markdown",
   "metadata": {},
   "source": [
    "#### Batch and Online Learning\n",
    "- Whether or not the the system can learn incrementally forma stream of incoming data."
   ]
  },
  {
   "cell_type": "markdown",
   "metadata": {},
   "source": [
    "##### Batch Learning\n",
    "- The system is incapable of learning incrementally:  it must be trained using all the available data.  First the system is trained, and then it is launched into production and runs without learning anymore; it just applies what it has learned -- this is called offline learning."
   ]
  },
  {
   "cell_type": "markdown",
   "metadata": {},
   "source": [
    "##### Online Learning\n",
    "- You train the sysmtem incrementally by feeding it data instances sequentially, either individually or in small groups called mini-batches.\n",
    "- Think of it as \"incremental learning\"."
   ]
  },
  {
   "cell_type": "markdown",
   "metadata": {},
   "source": [
    "#### Instance-Based Versus Model-Based Learning\n",
    "- One more way to categorize ML systems is by how they gneralize."
   ]
  },
  {
   "cell_type": "markdown",
   "metadata": {},
   "source": [
    "##### Instance-based Learning\n",
    "- the sysem learns the examples by heart, then generalizes to new cases by using a similarity measure to compare tehm to the learned examples (or a subset of them)."
   ]
  },
  {
   "cell_type": "markdown",
   "metadata": {},
   "source": [
    "##### Model-based Learning\n",
    "- Another wayto generalize from a set of exampls is to build a model of these examples and then use that model to make predictions."
   ]
  },
  {
   "cell_type": "markdown",
   "metadata": {},
   "source": [
    "### Main Challenges of Machine Learning\n",
    "- bad algortihm and bad data"
   ]
  },
  {
   "cell_type": "markdown",
   "metadata": {},
   "source": [
    "#### Insufficient Quantity of Training Data\n",
    "- it takes a lot of data for most ML algorithms to work properly"
   ]
  },
  {
   "cell_type": "markdown",
   "metadata": {},
   "source": [
    "#### Nonrepresentative Training Data\n",
    "- In order to generalize well, it is crucila that your training data be representative of the new cases\n",
    "- Sampling bias:  if a sample is too small, you will have sampling noise (nonrepresentative data as a result of chance), but even very large samples can be nonrepresentative in the sampling method is flawed."
   ]
  },
  {
   "cell_type": "markdown",
   "metadata": {},
   "source": [
    "#### Poor-Quality Data\n",
    "- If your training dta is full of errors, outliers, and noise (due to poor quality measurements), it will make it harder  for the system to detect the underlying patterns, so you system is less likely to perform well.  \n",
    "- The following are a couple of examples of when you would want ot clean up training data:\n",
    "    - If some insatance are clearly outliers\n",
    "    - If some instances are missing a few features (eg 5% of your customers did not specify their age), you must decide whether you want to ignore this attribute alother, ignore these instances, fill in the missing values, or train one model with the feature and one model without it"
   ]
  },
  {
   "cell_type": "markdown",
   "metadata": {},
   "source": [
    "#### Irrelevant Features\n",
    "- Garbage in, garbage out.\n",
    "- Feature engineering:\n",
    "    - Feature selection:  selecting the most useful features to train on among existing features.\n",
    "    - Feature extraction: combining existing features to produce a more useful one.\n",
    "    - Creating new features by gathering new data."
   ]
  },
  {
   "cell_type": "markdown",
   "metadata": {},
   "source": [
    "#### Overfitting the Training Data\n",
    "- Overgeneralizing is something that we humans do all too often, and unfortunately machines can fall into the same trap if we are not carefull.  In ML this is called overfitting:  it means that the model performs well on the training data, but it doesn not generalize well.\n",
    "- Possible solutions:\n",
    "    - simplify the model by selecting one with fewer parameters, by reducing the number of attributes in the training data, or by constraining the model.\n",
    "    - Gather more training data.\n",
    "    - Reduce the noise in the training data (fix the errors and remove the outliers).\n",
    "- Constraining a model to make it simpler and reduce the risk of overfitting is called regularization.  \n",
    "- The amount of regularizaiton to apply during learning can be controlled by a hyperparameter.  A hyperparameter is a parameter of a learning algorithm."
   ]
  },
  {
   "cell_type": "markdown",
   "metadata": {},
   "source": [
    "#### Underfitting the Training Data\n",
    "- Occurs when your model is too simple to learn the underlying structure of the data.\n",
    "- Solutions for underfitting:\n",
    "    - Select a more powerful model, with more parameters.\n",
    "    - Feed better features to the learning algorithm (feature engineering).\n",
    "    - Reduce the constraints on the model (reduce the regularization hyperparameter)."
   ]
  },
  {
   "cell_type": "markdown",
   "metadata": {},
   "source": [
    "### Testing and Validating\n",
    "- Train your model using the training set nad test your model using the test set.\n",
    "- It is common to use 80% of the data for training and hold out 20% for testing."
   ]
  },
  {
   "cell_type": "markdown",
   "metadata": {},
   "source": [
    "#### Hyperparameter Tuning and Model Selection\n",
    "- Holdout validation:  hold out part of thr training set to evaluate several candidate models and select the best one.\n",
    "- Held out set is called the validation set.\n",
    "- Train the best model on the full training set.\n",
    "- Evaluate final model on the test set to get an estimate of the generalization error."
   ]
  },
  {
   "cell_type": "markdown",
   "metadata": {},
   "source": []
  },
  {
   "cell_type": "markdown",
   "metadata": {},
   "source": []
  },
  {
   "cell_type": "markdown",
   "metadata": {},
   "source": []
  },
  {
   "cell_type": "markdown",
   "metadata": {},
   "source": []
  },
  {
   "cell_type": "markdown",
   "metadata": {},
   "source": []
  },
  {
   "cell_type": "markdown",
   "metadata": {},
   "source": []
  }
 ],
 "metadata": {
  "kernelspec": {
   "display_name": "Python 3",
   "language": "python",
   "name": "python3"
  },
  "language_info": {
   "codemirror_mode": {
    "name": "ipython",
    "version": 3
   },
   "file_extension": ".py",
   "mimetype": "text/x-python",
   "name": "python",
   "nbconvert_exporter": "python",
   "pygments_lexer": "ipython3",
   "version": "3.8.5"
  }
 },
 "nbformat": 4,
 "nbformat_minor": 4
}
