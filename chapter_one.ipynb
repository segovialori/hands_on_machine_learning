{
 "cells": [
  {
   "cell_type": "markdown",
   "metadata": {},
   "source": [
    "# The Machine Learning Landscape"
   ]
  },
  {
   "cell_type": "markdown",
   "metadata": {},
   "source": [
    "## The Machine Learning Landscape"
   ]
  },
  {
   "cell_type": "markdown",
   "metadata": {},
   "source": [
    "- supervised vs unsupervised learning\n",
    "- online versus batch learning\n",
    "- instance-based versus model-baled learning"
   ]
  },
  {
   "cell_type": "markdown",
   "metadata": {},
   "source": [
    "## What Is Machine Learning"
   ]
  },
  {
   "cell_type": "markdown",
   "metadata": {},
   "source": [
    "- Machine learning is the science (and art) of programming computer so they can learn from data."
   ]
  },
  {
   "cell_type": "markdown",
   "metadata": {},
   "source": [
    "## Why Use Machine Learning"
   ]
  },
  {
   "cell_type": "markdown",
   "metadata": {},
   "source": [
    "- Machine learning can help humans learn.\n",
    "- ML algorithms can be inspected to see hwat they have learned.\n",
    "- Applying ML techniques to dig inot large amounts of data can help discover patterns that were not immediately apparent. This is called data mining.\n",
    "- Problems for which existing solutions require a lot of fine tuning or long lists of rules.\n",
    "- Complex problems for which using a traditional approach yeilds no good solution.\n",
    "- Fluctuating environments:  ML system can adapt to new data.\n",
    "- Getting insights about complex problems and large amounts of data."
   ]
  },
  {
   "cell_type": "markdown",
   "metadata": {},
   "source": [
    "## Examples of Applications"
   ]
  },
  {
   "cell_type": "markdown",
   "metadata": {},
   "source": [
    "- Analyzing images of products on a production line to automatically classify them\n",
    "- Detecting tumors in brain scans\n",
    "- Automatically classifying news articles\n",
    "- Forecasting your company's revenue next year, based on many performance metrics"
   ]
  },
  {
   "cell_type": "markdown",
   "metadata": {},
   "source": [
    "## Types of Machine Learning Systems"
   ]
  },
  {
   "cell_type": "markdown",
   "metadata": {},
   "source": [
    "### Supervised/Unsupervised Learning"
   ]
  },
  {
   "cell_type": "markdown",
   "metadata": {},
   "source": [
    "Four major categories:\n",
    "- supervised\n",
    "- unsupervised\n",
    "- semisupervised\n",
    "- reinforcement"
   ]
  },
  {
   "cell_type": "markdown",
   "metadata": {},
   "source": [
    "#### Supervised Learning"
   ]
  },
  {
   "cell_type": "markdown",
   "metadata": {},
   "source": [
    "- In supervised learning, the training set you feed to the algorithn includes the desired solutions, called labels.\n",
    "- A typical supervised learning task is classification.\n",
    "    - ex). spam filter\n",
    "        - trained with many example emails along with thier class (spam or ham), and it must learn how to classify new emails\n",
    "- Another typical task is to predict a target numeric value, sucha s the price of a car, give a set of features ( mileage, age, brand, etc.) called predictors.  This sort of task is called regression.\n",
    "- Some of the most important supervised learning algorithms:\n",
    "    - k-Nearest Neighbors\n",
    "    - Linear Regression\n",
    "    - Logistic Regression\n",
    "    - Support Vector Machines (SVMs)\n",
    "    - Decision Trees and Random Forests\n",
    "    - Neural networks"
   ]
  },
  {
   "cell_type": "markdown",
   "metadata": {},
   "source": [
    "#### Unsupervised Learning\n",
    "- In unsupervised learning the training data is unlabeled.  The system tries to learn without a teacher. \n",
    "- Most important unsupervised learning algorithms:\n",
    "    - Clustering\n",
    "        - K-means\n",
    "        - DBSCAN\n",
    "        - Hierarchical Cluster Analysis (HCA)\n",
    "    - Anomaly Detection and novelty detection\n",
    "        - One-class SVM\n",
    "        - Isolation forest\n",
    "    - Visualization and dimensionality reduction\n",
    "        - Principal Component Analysis (PCA)\n",
    "        - Kernel PCA\n",
    "        - Locally Linear Embedding (LLE)\n",
    "        - t-Distributed Stochastic Neighbor Embedding (t-SNE)\n",
    "    - Association rule learning\n",
    "        - Apriori\n",
    "        - Eclat\n",
    "       "
   ]
  },
  {
   "cell_type": "markdown",
   "metadata": {},
   "source": [
    "#### Semisupervised learning\n",
    "- Since labeling data is usually time-consuming and costly, you will ften have plenty of unlabeled instances, and few labeled instances.  some algorithms can deal with data that partially labeled,this is called semisupervised learning.\n",
    "    - ex). Google photos\n",
    "        - Once you upload allyou family photos to the service, it automaticaly recognizes that the same person A shows up in photos 1, 5, and 11 - this is the unsupervised part (clustering).  Now all the system needs is for ;you to tell it who these people are."
   ]
  },
  {
   "cell_type": "markdown",
   "metadata": {},
   "source": []
  },
  {
   "cell_type": "markdown",
   "metadata": {},
   "source": []
  },
  {
   "cell_type": "markdown",
   "metadata": {},
   "source": []
  },
  {
   "cell_type": "markdown",
   "metadata": {},
   "source": []
  },
  {
   "cell_type": "markdown",
   "metadata": {},
   "source": []
  },
  {
   "cell_type": "markdown",
   "metadata": {},
   "source": []
  }
 ],
 "metadata": {
  "kernelspec": {
   "display_name": "Python 3",
   "language": "python",
   "name": "python3"
  },
  "language_info": {
   "codemirror_mode": {
    "name": "ipython",
    "version": 3
   },
   "file_extension": ".py",
   "mimetype": "text/x-python",
   "name": "python",
   "nbconvert_exporter": "python",
   "pygments_lexer": "ipython3",
   "version": "3.8.5"
  }
 },
 "nbformat": 4,
 "nbformat_minor": 4
}
