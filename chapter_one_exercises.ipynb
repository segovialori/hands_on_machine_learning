{
 "cells": [
  {
   "cell_type": "markdown",
   "metadata": {},
   "source": [
    "# Chapter One Exercises"
   ]
  },
  {
   "cell_type": "markdown",
   "metadata": {},
   "source": [
    "#### 1. How would you define machine learning?"
   ]
  },
  {
   "cell_type": "markdown",
   "metadata": {},
   "source": [
    "Machine learning is the science of programming computers so they can learn from data."
   ]
  },
  {
   "cell_type": "markdown",
   "metadata": {},
   "source": [
    "#### 2. Can you name four types of problems where it shines?"
   ]
  },
  {
   "cell_type": "markdown",
   "metadata": {},
   "source": [
    "1. Problems that require a lot of fine-tuning or long lists of rules\n",
    "2. Complex problems for which using a traditional approach yields no good solution\n",
    "3. Fluctuating enviornments\n",
    "4. Getting insights about complex problems and large amounts of data"
   ]
  },
  {
   "cell_type": "markdown",
   "metadata": {},
   "source": [
    "#### 3. What is a labeled training set?"
   ]
  },
  {
   "cell_type": "markdown",
   "metadata": {},
   "source": [
    "Supervised learning"
   ]
  },
  {
   "cell_type": "markdown",
   "metadata": {},
   "source": [
    "#### 4. What are the two most common supervised tasks?"
   ]
  },
  {
   "cell_type": "markdown",
   "metadata": {},
   "source": [
    "1. Classification\n",
    "2. Regression "
   ]
  },
  {
   "cell_type": "markdown",
   "metadata": {},
   "source": [
    "#### 5. Can you name four common unsupervised tasks?"
   ]
  },
  {
   "cell_type": "markdown",
   "metadata": {},
   "source": [
    "1. Clustering\n",
    "2. Anomaly detection and novelty detection\n",
    "3. Visualization and dimensionality reduction\n",
    "4. Association rule learning"
   ]
  },
  {
   "cell_type": "markdown",
   "metadata": {},
   "source": [
    "#### 6. What type of ML algorithm would you use to allow a robot to walk in various unknown terrains?\n"
   ]
  },
  {
   "cell_type": "markdown",
   "metadata": {},
   "source": [
    "Reinforcement Learning"
   ]
  },
  {
   "cell_type": "markdown",
   "metadata": {},
   "source": [
    "#### 7.  What type of algorithm would you use to segement your customers into muliple groups?"
   ]
  },
  {
   "cell_type": "markdown",
   "metadata": {},
   "source": [
    "Clustering"
   ]
  },
  {
   "cell_type": "markdown",
   "metadata": {},
   "source": [
    "#### 8. Would you frame the problem of a spam detection as a supervised learning problem or an unsupervised learning problem?"
   ]
  },
  {
   "cell_type": "markdown",
   "metadata": {},
   "source": [
    "Supervised learning problem"
   ]
  },
  {
   "cell_type": "markdown",
   "metadata": {},
   "source": [
    "#### 9. What is an online learning system?"
   ]
  },
  {
   "cell_type": "markdown",
   "metadata": {},
   "source": [
    "In online learning, you train the system incrementally by feeding it data instances sequentially, either individually or in small groups called mini batches."
   ]
  },
  {
   "cell_type": "markdown",
   "metadata": {},
   "source": [
    "#### 10. What is out-of-core learning?"
   ]
  },
  {
   "cell_type": "markdown",
   "metadata": {},
   "source": [
    "Online learning algorithms used to train systems on huge datasets that cannot fin in one machines main memory.  an out of core learning algorithm chops the data into min batches and uses online learning techniques to learn from these mini batches."
   ]
  },
  {
   "cell_type": "markdown",
   "metadata": {},
   "source": [
    "#### 11. What type of leraning algorithm relies on similarity measure to make predicitons?"
   ]
  },
  {
   "cell_type": "markdown",
   "metadata": {},
   "source": [
    "Instance-based learning\n",
    "\n"
   ]
  },
  {
   "cell_type": "markdown",
   "metadata": {},
   "source": [
    "#### 12. What is the difference between a model parameter and a learning algorithm's hyperparameter?"
   ]
  },
  {
   "cell_type": "markdown",
   "metadata": {},
   "source": [
    "A model has one or more mode parameters that determine what it will predict given a new instance (slope of linear model).  A learning algorithm tries to find optimal calues for these parameters such that the model generalizes well to new instances.  A hyperparameter is a parameter of the learning algorithm itself, not the model (eg amount of regularization to apply). \n"
   ]
  },
  {
   "cell_type": "markdown",
   "metadata": {},
   "source": [
    "#### 13. What do model-based learning algorithms search for?  What is the most common strategy they use to succeed?  How do they make predictions?"
   ]
  },
  {
   "cell_type": "markdown",
   "metadata": {},
   "source": [
    "Model-based learning algorithms search for an optimal value for the model parameters such that the model will generalize well to new instances.  we usually train such systems by minimizing a cost function that measures how bad the system is at making predicitons on the training data, plus a penalty for model complexity if the model is regularized.  To make predicitons, we feed the new instances fretures into the models prediction function, using the parameter calues found by the learning algorithm."
   ]
  },
  {
   "cell_type": "markdown",
   "metadata": {},
   "source": [
    "#### 14. Can you name four of the main challenges in ML?"
   ]
  },
  {
   "cell_type": "markdown",
   "metadata": {},
   "source": [
    "1. Insufficient quantity of training data\n",
    "2. Nonrepresentative training data\n",
    "3. Poor-quality data\n",
    "4. Irrelevant features"
   ]
  },
  {
   "cell_type": "markdown",
   "metadata": {},
   "source": [
    "#### 15. If your model performs great on the training data but generalizes poorly to new instaces, what is happening?  Can you name three possible solutions?"
   ]
  },
  {
   "cell_type": "markdown",
   "metadata": {},
   "source": [
    "The model is likely overfitting the training data.  Solutions to overfitting are getting more day, simplifying the model, or reducing the noise in the training data."
   ]
  },
  {
   "cell_type": "markdown",
   "metadata": {},
   "source": [
    "#### 16. What is a test set, and why would you want to use it?"
   ]
  },
  {
   "cell_type": "markdown",
   "metadata": {},
   "source": [
    "A test set is used to estimate the generalization error that a model will make on new instaces, before the model is launched in production."
   ]
  },
  {
   "cell_type": "markdown",
   "metadata": {},
   "source": [
    "#### 17. What is the purpose of a validation set?"
   ]
  },
  {
   "cell_type": "markdown",
   "metadata": {},
   "source": [
    "A validation set is used to compare models.  It makes it possible to select the best mode and tune the hyperparameters."
   ]
  },
  {
   "cell_type": "markdown",
   "metadata": {},
   "source": [
    "#### 18. What is the train-dev set, when do you need it, and how do you use it?"
   ]
  },
  {
   "cell_type": "markdown",
   "metadata": {},
   "source": [
    "The train-dec set is used when there is a risk of mismatch between the training data and the data used in the validation and test datasets.  Traindev is part of the training set thats held out.  The model is trained on the rest of the training set, and evaluated on both the traindec set and the validation set.  If the model performs well on the training set but not on the train dev set, then the model is likely overfitting the training set.  \\if it performs well on both traindec and training set, but not the validation set, then there is probably a significant data mismatch betwen the training data and the validation and test data."
   ]
  },
  {
   "cell_type": "markdown",
   "metadata": {},
   "source": [
    "#### 19. What can go wrong if you tune hyperparameters using the test set?"
   ]
  },
  {
   "cell_type": "markdown",
   "metadata": {},
   "source": [
    "If you tune hyperparameters using the test set, you risk overfitting the test set, and the generalization error you measure will be optimistic."
   ]
  }
 ],
 "metadata": {
  "kernelspec": {
   "display_name": "Python 3",
   "language": "python",
   "name": "python3"
  },
  "language_info": {
   "codemirror_mode": {
    "name": "ipython",
    "version": 3
   },
   "file_extension": ".py",
   "mimetype": "text/x-python",
   "name": "python",
   "nbconvert_exporter": "python",
   "pygments_lexer": "ipython3",
   "version": "3.8.5"
  }
 },
 "nbformat": 4,
 "nbformat_minor": 4
}
